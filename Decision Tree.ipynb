{
 "cells": [
  {
   "cell_type": "markdown",
   "id": "75b96b8b",
   "metadata": {},
   "source": [
    "## Decision Tree model "
   ]
  },
  {
   "cell_type": "code",
   "execution_count": 1,
   "id": "6e61c6b1",
   "metadata": {},
   "outputs": [],
   "source": [
    "#importing libraries \n",
    "\n",
    "import pandas as pd \n",
    "import numpy as np\n",
    "import matplotlib.pyplot as plt\n",
    "import seaborn as sns\n",
    "%matplotlib inline\n",
    "\n",
    "import warnings\n",
    "warnings.filterwarnings(\"ignore\")\n"
   ]
  },
  {
   "cell_type": "code",
   "execution_count": 2,
   "id": "1168d3d9",
   "metadata": {},
   "outputs": [
    {
     "data": {
      "text/html": [
       "<div>\n",
       "<style scoped>\n",
       "    .dataframe tbody tr th:only-of-type {\n",
       "        vertical-align: middle;\n",
       "    }\n",
       "\n",
       "    .dataframe tbody tr th {\n",
       "        vertical-align: top;\n",
       "    }\n",
       "\n",
       "    .dataframe thead th {\n",
       "        text-align: right;\n",
       "    }\n",
       "</style>\n",
       "<table border=\"1\" class=\"dataframe\">\n",
       "  <thead>\n",
       "    <tr style=\"text-align: right;\">\n",
       "      <th></th>\n",
       "      <th>passenger_count</th>\n",
       "      <th>pickup_longitude</th>\n",
       "      <th>pickup_latitude</th>\n",
       "      <th>dropoff_longitude</th>\n",
       "      <th>dropoff_latitude</th>\n",
       "      <th>trip_duration</th>\n",
       "      <th>pickup_month</th>\n",
       "      <th>day_of_week</th>\n",
       "      <th>distance</th>\n",
       "      <th>store_and_fwd_flag_N</th>\n",
       "      <th>store_and_fwd_flag_Y</th>\n",
       "      <th>pickup_timebin_evening</th>\n",
       "      <th>pickup_timebin_late night</th>\n",
       "      <th>pickup_timebin_midday</th>\n",
       "      <th>pickup_timebin_morning</th>\n",
       "      <th>vendor_id_1</th>\n",
       "      <th>vendor_id_2</th>\n",
       "      <th>weekday_weekday</th>\n",
       "      <th>weekday_weekend</th>\n",
       "    </tr>\n",
       "  </thead>\n",
       "  <tbody>\n",
       "    <tr>\n",
       "      <th>0</th>\n",
       "      <td>1</td>\n",
       "      <td>-73.953918</td>\n",
       "      <td>40.778873</td>\n",
       "      <td>-73.963875</td>\n",
       "      <td>40.771164</td>\n",
       "      <td>400</td>\n",
       "      <td>2</td>\n",
       "      <td>29</td>\n",
       "      <td>1.199074</td>\n",
       "      <td>1</td>\n",
       "      <td>0</td>\n",
       "      <td>0</td>\n",
       "      <td>0</td>\n",
       "      <td>1</td>\n",
       "      <td>0</td>\n",
       "      <td>0</td>\n",
       "      <td>1</td>\n",
       "      <td>0</td>\n",
       "      <td>1</td>\n",
       "    </tr>\n",
       "    <tr>\n",
       "      <th>1</th>\n",
       "      <td>2</td>\n",
       "      <td>-73.988312</td>\n",
       "      <td>40.731743</td>\n",
       "      <td>-73.994751</td>\n",
       "      <td>40.694931</td>\n",
       "      <td>1100</td>\n",
       "      <td>3</td>\n",
       "      <td>11</td>\n",
       "      <td>4.129117</td>\n",
       "      <td>1</td>\n",
       "      <td>0</td>\n",
       "      <td>0</td>\n",
       "      <td>1</td>\n",
       "      <td>0</td>\n",
       "      <td>0</td>\n",
       "      <td>1</td>\n",
       "      <td>0</td>\n",
       "      <td>1</td>\n",
       "      <td>0</td>\n",
       "    </tr>\n",
       "    <tr>\n",
       "      <th>2</th>\n",
       "      <td>2</td>\n",
       "      <td>-73.997314</td>\n",
       "      <td>40.721458</td>\n",
       "      <td>-73.948029</td>\n",
       "      <td>40.774918</td>\n",
       "      <td>1635</td>\n",
       "      <td>2</td>\n",
       "      <td>21</td>\n",
       "      <td>7.250763</td>\n",
       "      <td>1</td>\n",
       "      <td>0</td>\n",
       "      <td>1</td>\n",
       "      <td>0</td>\n",
       "      <td>0</td>\n",
       "      <td>0</td>\n",
       "      <td>0</td>\n",
       "      <td>1</td>\n",
       "      <td>0</td>\n",
       "      <td>1</td>\n",
       "    </tr>\n",
       "    <tr>\n",
       "      <th>3</th>\n",
       "      <td>6</td>\n",
       "      <td>-73.961670</td>\n",
       "      <td>40.759720</td>\n",
       "      <td>-73.956779</td>\n",
       "      <td>40.780628</td>\n",
       "      <td>1141</td>\n",
       "      <td>1</td>\n",
       "      <td>5</td>\n",
       "      <td>2.361101</td>\n",
       "      <td>1</td>\n",
       "      <td>0</td>\n",
       "      <td>0</td>\n",
       "      <td>0</td>\n",
       "      <td>0</td>\n",
       "      <td>1</td>\n",
       "      <td>0</td>\n",
       "      <td>1</td>\n",
       "      <td>1</td>\n",
       "      <td>0</td>\n",
       "    </tr>\n",
       "    <tr>\n",
       "      <th>4</th>\n",
       "      <td>1</td>\n",
       "      <td>-74.017120</td>\n",
       "      <td>40.708469</td>\n",
       "      <td>-73.988182</td>\n",
       "      <td>40.740631</td>\n",
       "      <td>848</td>\n",
       "      <td>2</td>\n",
       "      <td>17</td>\n",
       "      <td>4.328540</td>\n",
       "      <td>1</td>\n",
       "      <td>0</td>\n",
       "      <td>0</td>\n",
       "      <td>0</td>\n",
       "      <td>0</td>\n",
       "      <td>1</td>\n",
       "      <td>1</td>\n",
       "      <td>0</td>\n",
       "      <td>1</td>\n",
       "      <td>0</td>\n",
       "    </tr>\n",
       "  </tbody>\n",
       "</table>\n",
       "</div>"
      ],
      "text/plain": [
       "   passenger_count  pickup_longitude  pickup_latitude  dropoff_longitude  \\\n",
       "0                1        -73.953918        40.778873         -73.963875   \n",
       "1                2        -73.988312        40.731743         -73.994751   \n",
       "2                2        -73.997314        40.721458         -73.948029   \n",
       "3                6        -73.961670        40.759720         -73.956779   \n",
       "4                1        -74.017120        40.708469         -73.988182   \n",
       "\n",
       "   dropoff_latitude  trip_duration  pickup_month  day_of_week  distance  \\\n",
       "0         40.771164            400             2           29  1.199074   \n",
       "1         40.694931           1100             3           11  4.129117   \n",
       "2         40.774918           1635             2           21  7.250763   \n",
       "3         40.780628           1141             1            5  2.361101   \n",
       "4         40.740631            848             2           17  4.328540   \n",
       "\n",
       "   store_and_fwd_flag_N  store_and_fwd_flag_Y  pickup_timebin_evening  \\\n",
       "0                     1                     0                       0   \n",
       "1                     1                     0                       0   \n",
       "2                     1                     0                       1   \n",
       "3                     1                     0                       0   \n",
       "4                     1                     0                       0   \n",
       "\n",
       "   pickup_timebin_late night  pickup_timebin_midday  pickup_timebin_morning  \\\n",
       "0                          0                      1                       0   \n",
       "1                          1                      0                       0   \n",
       "2                          0                      0                       0   \n",
       "3                          0                      0                       1   \n",
       "4                          0                      0                       1   \n",
       "\n",
       "   vendor_id_1  vendor_id_2  weekday_weekday  weekday_weekend  \n",
       "0            0            1                0                1  \n",
       "1            1            0                1                0  \n",
       "2            0            1                0                1  \n",
       "3            0            1                1                0  \n",
       "4            1            0                1                0  "
      ]
     },
     "execution_count": 2,
     "metadata": {},
     "output_type": "execute_result"
    }
   ],
   "source": [
    "# Loading the dataset\n",
    "\n",
    "data_dt = pd.read_csv('Encoded_clean_data.csv')\n",
    "data_dt.head()"
   ]
  },
  {
   "cell_type": "code",
   "execution_count": 3,
   "id": "bae20a2f",
   "metadata": {},
   "outputs": [
    {
     "data": {
      "text/plain": [
       "((725161, 18), (725161,))"
      ]
     },
     "execution_count": 3,
     "metadata": {},
     "output_type": "execute_result"
    }
   ],
   "source": [
    "# Seperating the dependent and independent variables\n",
    "\n",
    "x = data_dt.drop(['trip_duration'], axis=1)\n",
    "y = data_dt['trip_duration']\n",
    "x.shape, y.shape"
   ]
  },
  {
   "cell_type": "markdown",
   "id": "84f7b3fa",
   "metadata": {},
   "source": [
    "### Decision tree prerequisites\n",
    "\n",
    "* Scaling and preprocessing of data is generally not required for decision tree, but since we have converted to bins, we'll leave the encoding for those. We wont be scaling the dataset and use as is"
   ]
  },
  {
   "cell_type": "code",
   "execution_count": 8,
   "id": "2daae047",
   "metadata": {},
   "outputs": [
    {
     "data": {
      "text/plain": [
       "((543870, 18), (181291, 18))"
      ]
     },
     "execution_count": 8,
     "metadata": {},
     "output_type": "execute_result"
    }
   ],
   "source": [
    "# splitting the data into train and test \n",
    "\n",
    "from sklearn.model_selection import train_test_split\n",
    "\n",
    "train_x,test_x,train_y,test_y = train_test_split(x,y, random_state = 56)\n",
    "\n",
    "train_x.shape, test_x.shape"
   ]
  },
  {
   "cell_type": "markdown",
   "id": "86eaaba1",
   "metadata": {},
   "source": [
    "### We will try to fit model with different max_depth values \n",
    "\n",
    "* Max depth value can lead to overfitting when it is high, and underfitting when it is low. It will be demonstrated for values of (18, 5) \n",
    "* We will then use GridSearchCV to tune the parameter to get best result"
   ]
  },
  {
   "cell_type": "code",
   "execution_count": 28,
   "id": "7220a300",
   "metadata": {},
   "outputs": [],
   "source": [
    "#implementation of decision tree\n",
    "\n",
    "from sklearn.tree import DecisionTreeRegressor\n",
    "from sklearn.metrics import mean_squared_error as mse\n",
    "\n",
    "Train_error = []\n",
    "Test_error = []\n",
    "\n",
    "def fit_dectree(max_d):\n",
    "    \n",
    "    dec_t = DecisionTreeRegressor(criterion=\"mse\", max_depth=max_d)\n",
    "    \n",
    "    dec_t.fit(train_x, train_y)\n",
    "    \n",
    "    dt_pred = dec_t.predict(test_x)\n",
    "    \n",
    "    Train_error.append(dec_t.score(train_x, train_y))\n",
    "    Test_error.append(dec_t.score(test_x, test_y))\n",
    "    "
   ]
  },
  {
   "cell_type": "code",
   "execution_count": 29,
   "id": "3b4605ab",
   "metadata": {},
   "outputs": [
    {
     "name": "stdout",
     "output_type": "stream",
     "text": [
      "\t\tFor 18 \n",
      "\n",
      "Training Score = 0.8564763323096918 \n",
      "Test Score = 0.5563400750161203 \n",
      "RMSE = 461.9857529700828 \n",
      "\n",
      "\t\tFor 5 \n",
      "\n",
      "Training Score = 0.6251204408210391 \n",
      "Test Score = 0.6300417491324666 \n",
      "RMSE = 461.9857529700828 \n",
      "\n"
     ]
    }
   ],
   "source": [
    "# To iterate for max depth values of 40 and 5\n",
    "\n",
    "for i in [18,5]:\n",
    "    \n",
    "    fit_dectree(i)\n",
    "    \n",
    "    print (\"\\t\\tFor {} \\n\".format(i))\n",
    "    \n",
    "    print (\"Training Score = {} \".format(Train_error[[18,5].index(i)]))\n",
    "\n",
    "    print (\"Test Score = {} \".format(Test_error[[18,5].index(i)]))\n",
    "\n",
    "    print (\"RMSE = {} \\n\".format(np.sqrt(mse(dt_pred, test_y))))\n",
    "    "
   ]
  },
  {
   "cell_type": "markdown",
   "id": "2e2b3c2f",
   "metadata": {},
   "source": [
    "* As we see that for max depth value of 18, the model tends to slightly overfit (evident from the score of train and test) and for value for 5, it tends to underfit a bit. It can also be seen in the graph"
   ]
  },
  {
   "cell_type": "markdown",
   "id": "14b43f34",
   "metadata": {},
   "source": [
    "#### Now we will iterate from 1 to 20 in for loop"
   ]
  },
  {
   "cell_type": "code",
   "execution_count": 47,
   "id": "9be1a518",
   "metadata": {},
   "outputs": [],
   "source": [
    "# First we will re initiate the lists to use for visualization\n",
    "\n",
    "Train_error = []\n",
    "Test_error = []\n",
    "\n",
    "# iterate through 1 to 20 for max depth values\n",
    "\n",
    "for i in range(1,21):\n",
    "    \n",
    "    # call the fic_dectree method\n",
    "    fit_dectree(i)\n",
    "    "
   ]
  },
  {
   "cell_type": "markdown",
   "id": "123534e7",
   "metadata": {},
   "source": [
    "#### Now to visualize to see where overfitting / underfitting occurs"
   ]
  },
  {
   "cell_type": "code",
   "execution_count": 55,
   "id": "d55a512c",
   "metadata": {},
   "outputs": [
    {
     "data": {
      "text/plain": [
       "<matplotlib.legend.Legend at 0x24d1d2f1988>"
      ]
     },
     "execution_count": 55,
     "metadata": {},
     "output_type": "execute_result"
    },
    {
     "data": {
      "image/png": "[encoded data removed]",
      "text/plain": [
       "<Figure size 720x360 with 1 Axes>"
      ]
     },
     "metadata": {
      "needs_background": "light"
     },
     "output_type": "display_data"
    }
   ],
   "source": [
    "# plotting train score and test score\n",
    "\n",
    "plt.figure(figsize=(10,5))\n",
    "x = list(range(1,21))\n",
    "plt.plot(x,Train_error)\n",
    "plt.plot(x,Test_error)\n",
    "plt.xticks(x)\n",
    "plt.xlabel('max_depth')\n",
    "plt.ylabel('score')\n",
    "plt.title('TRAIN AND TEST SCORES FOR DIFF MAX DEPTH')\n",
    "plt.legend(['train', 'test'])"
   ]
  },
  {
   "cell_type": "markdown",
   "id": "cf4c3228",
   "metadata": {},
   "source": [
    "* We can see that for low values ( esp 1) the model tends to underfit and for values beyond 9, it starts to overfit. i.e) the train score is increasing to 90% while the test score is depreciating.\n",
    "* We can make a good guess that 9 is the best depth value which gives an accuracy between 0.6 and 0.7. We will check with the grid search to confirm"
   ]
  },
  {
   "cell_type": "code",
   "execution_count": 69,
   "id": "1ff38b61",
   "metadata": {},
   "outputs": [
    {
     "name": "stdout",
     "output_type": "stream",
     "text": [
      "Train score for depth 9 =  0.673347876004281\n",
      "Test score for depth 9 =  0.6657256091014468\n"
     ]
    }
   ],
   "source": [
    "# we will get the value of train and test error for depth 9\n",
    "\n",
    "print(\"Train score for depth 9 = \",Train_error[8])\n",
    "print('Test score for depth 9 = ',Test_error[8])"
   ]
  },
  {
   "cell_type": "markdown",
   "id": "01ba03b4",
   "metadata": {},
   "source": [
    "#### Now to iterate from 1 to 20 using gridsearchcv\n",
    "\n",
    "* we will mention the range of maxdepth values and we'll use criterion as mse since we used it in the beginning"
   ]
  },
  {
   "cell_type": "code",
   "execution_count": 34,
   "id": "71b4a07a",
   "metadata": {},
   "outputs": [],
   "source": [
    "# To decalre the param dict \n",
    "\n",
    "param_dist={\n",
    "    \"criterion\": ['mse'],\n",
    "    \"max_depth\":list(range(1,21))\n",
    "}"
   ]
  },
  {
   "cell_type": "markdown",
   "id": "1beaf2d4",
   "metadata": {},
   "source": [
    "#### Now to declare the grid instance and carry out gridsearchcv"
   ]
  },
  {
   "cell_type": "code",
   "execution_count": 37,
   "id": "adacfe06",
   "metadata": {},
   "outputs": [],
   "source": [
    "# fitting again on train and test without max_depth value\n",
    "\n",
    "clf = DecisionTreeRegressor(criterion=\"mse\")\n",
    "\n",
    "clf.fit(train_x, train_y)"
   ]
  },
  {
   "cell_type": "code",
   "execution_count": 38,
   "id": "d24b0804",
   "metadata": {},
   "outputs": [
    {
     "data": {
      "text/plain": [
       "DecisionTreeRegressor(criterion='mse')"
      ]
     },
     "execution_count": 38,
     "metadata": {},
     "output_type": "execute_result"
    }
   ],
   "source": [
    "clf_pred = clf.predict(test_x)"
   ]
  },
  {
   "cell_type": "code",
   "execution_count": 39,
   "id": "103f8ef2",
   "metadata": {},
   "outputs": [],
   "source": [
    "# To create instance grid \n",
    "\n",
    "from sklearn.model_selection import GridSearchCV\n",
    "\n",
    "grid = GridSearchCV(clf,param_dist, cv =10 , n_jobs = -1)"
   ]
  },
  {
   "cell_type": "code",
   "execution_count": 44,
   "id": "ee0dd8d7",
   "metadata": {},
   "outputs": [
    {
     "data": {
      "text/plain": [
       "GridSearchCV(cv=10, estimator=DecisionTreeRegressor(criterion='mse'), n_jobs=-1,\n",
       "             param_grid={'criterion': ['mse'],\n",
       "                         'max_depth': [1, 2, 3, 4, 5, 6, 7, 8, 9, 10, 11, 12,\n",
       "                                       13, 14, 15, 16, 17, 18, 19, 20]})"
      ]
     },
     "execution_count": 44,
     "metadata": {},
     "output_type": "execute_result"
    }
   ],
   "source": [
    "grid.fit(train_x,train_y)"
   ]
  },
  {
   "cell_type": "markdown",
   "id": "1cb1efe9",
   "metadata": {},
   "source": [
    "* As we see, for the given criterion, it has fit the range of max depth values\n",
    "* We can get the best score and the corresponding max_depth value"
   ]
  },
  {
   "cell_type": "code",
   "execution_count": 45,
   "id": "a8b9ef9b",
   "metadata": {},
   "outputs": [
    {
     "data": {
      "text/plain": [
       "DecisionTreeRegressor(criterion='mse', max_depth=9)"
      ]
     },
     "execution_count": 45,
     "metadata": {},
     "output_type": "execute_result"
    }
   ],
   "source": [
    "grid.best_estimator_"
   ]
  },
  {
   "cell_type": "markdown",
   "id": "51d7ae7b",
   "metadata": {},
   "source": [
    "* As we see, our prediction using the iteration method matches with grid search, giving a max depth of 9 to be the best fit. Beyond 10 it tends to overfit"
   ]
  },
  {
   "cell_type": "markdown",
   "id": "35e8735f",
   "metadata": {},
   "source": [
    "#### we will store the best fit value"
   ]
  },
  {
   "cell_type": "code",
   "execution_count": 56,
   "id": "e4731bb8",
   "metadata": {},
   "outputs": [],
   "source": [
    "score_df = pd.read_csv('score.csv')"
   ]
  },
  {
   "cell_type": "code",
   "execution_count": 70,
   "id": "92f9c8db",
   "metadata": {},
   "outputs": [],
   "source": [
    "# update the score for max depth 9 (train_error is wrong naming, it actually holds value of train_score)\n",
    "\n",
    "score_df = score_df.append(pd.DataFrame({'model':['Dec_tree'],'train_score':Train_error[8],'test_score':Test_error[8]}),ignore_index = True)"
   ]
  },
  {
   "cell_type": "code",
   "execution_count": 71,
   "id": "a0b2d935",
   "metadata": {},
   "outputs": [],
   "source": [
    "# updating the csv file\n",
    "\n",
    "score_df.to_csv(\"score.csv\", index=False)"
   ]
  },
  {
   "cell_type": "code",
   "execution_count": null,
   "id": "930032a8",
   "metadata": {},
   "outputs": [],
   "source": []
  }
 ],
 "metadata": {
  "kernelspec": {
   "display_name": "Python 3 (ipykernel)",
   "language": "python",
   "name": "python3"
  },
  "language_info": {
   "codemirror_mode": {
    "name": "ipython",
    "version": 3
   },
   "file_extension": ".py",
   "mimetype": "text/x-python",
   "name": "python",
   "nbconvert_exporter": "python",
   "pygments_lexer": "ipython3",
   "version": "3.7.13"
  }
 },
 "nbformat": 4,
 "nbformat_minor": 5
}
