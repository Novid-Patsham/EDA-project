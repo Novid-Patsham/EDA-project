{
 "cells": [
  {
   "cell_type": "markdown",
   "id": "0ad5239e",
   "metadata": {},
   "source": [
    "## Linear Regression using Ridge and Lasso Regularization"
   ]
  },
  {
   "cell_type": "code",
   "execution_count": 1,
   "id": "1feed7f0",
   "metadata": {},
   "outputs": [],
   "source": [
    "#importing libraries \n",
    "\n",
    "import pandas as pd \n",
    "import numpy as np\n",
    "import matplotlib.pyplot as plt\n",
    "%matplotlib inline\n",
    "\n",
    "import warnings\n",
    "warnings.filterwarnings(\"ignore\")"
   ]
  },
  {
   "cell_type": "code",
   "execution_count": 2,
   "id": "0693489e",
   "metadata": {},
   "outputs": [
    {
     "data": {
      "text/html": [
       "<div>\n",
       "<style scoped>\n",
       "    .dataframe tbody tr th:only-of-type {\n",
       "        vertical-align: middle;\n",
       "    }\n",
       "\n",
       "    .dataframe tbody tr th {\n",
       "        vertical-align: top;\n",
       "    }\n",
       "\n",
       "    .dataframe thead th {\n",
       "        text-align: right;\n",
       "    }\n",
       "</style>\n",
       "<table border=\"1\" class=\"dataframe\">\n",
       "  <thead>\n",
       "    <tr style=\"text-align: right;\">\n",
       "      <th></th>\n",
       "      <th>passenger_count</th>\n",
       "      <th>pickup_longitude</th>\n",
       "      <th>pickup_latitude</th>\n",
       "      <th>dropoff_longitude</th>\n",
       "      <th>dropoff_latitude</th>\n",
       "      <th>trip_duration</th>\n",
       "      <th>pickup_month</th>\n",
       "      <th>day_of_week</th>\n",
       "      <th>distance</th>\n",
       "      <th>store_and_fwd_flag_N</th>\n",
       "      <th>store_and_fwd_flag_Y</th>\n",
       "      <th>pickup_timebin_evening</th>\n",
       "      <th>pickup_timebin_late night</th>\n",
       "      <th>pickup_timebin_midday</th>\n",
       "      <th>pickup_timebin_morning</th>\n",
       "      <th>vendor_id_1</th>\n",
       "      <th>vendor_id_2</th>\n",
       "      <th>weekday_weekday</th>\n",
       "      <th>weekday_weekend</th>\n",
       "    </tr>\n",
       "  </thead>\n",
       "  <tbody>\n",
       "    <tr>\n",
       "      <th>0</th>\n",
       "      <td>1</td>\n",
       "      <td>-73.953918</td>\n",
       "      <td>40.778873</td>\n",
       "      <td>-73.963875</td>\n",
       "      <td>40.771164</td>\n",
       "      <td>400</td>\n",
       "      <td>2</td>\n",
       "      <td>29</td>\n",
       "      <td>1.199074</td>\n",
       "      <td>1</td>\n",
       "      <td>0</td>\n",
       "      <td>0</td>\n",
       "      <td>0</td>\n",
       "      <td>1</td>\n",
       "      <td>0</td>\n",
       "      <td>0</td>\n",
       "      <td>1</td>\n",
       "      <td>0</td>\n",
       "      <td>1</td>\n",
       "    </tr>\n",
       "    <tr>\n",
       "      <th>1</th>\n",
       "      <td>2</td>\n",
       "      <td>-73.988312</td>\n",
       "      <td>40.731743</td>\n",
       "      <td>-73.994751</td>\n",
       "      <td>40.694931</td>\n",
       "      <td>1100</td>\n",
       "      <td>3</td>\n",
       "      <td>11</td>\n",
       "      <td>4.129117</td>\n",
       "      <td>1</td>\n",
       "      <td>0</td>\n",
       "      <td>0</td>\n",
       "      <td>1</td>\n",
       "      <td>0</td>\n",
       "      <td>0</td>\n",
       "      <td>1</td>\n",
       "      <td>0</td>\n",
       "      <td>1</td>\n",
       "      <td>0</td>\n",
       "    </tr>\n",
       "    <tr>\n",
       "      <th>2</th>\n",
       "      <td>2</td>\n",
       "      <td>-73.997314</td>\n",
       "      <td>40.721458</td>\n",
       "      <td>-73.948029</td>\n",
       "      <td>40.774918</td>\n",
       "      <td>1635</td>\n",
       "      <td>2</td>\n",
       "      <td>21</td>\n",
       "      <td>7.250763</td>\n",
       "      <td>1</td>\n",
       "      <td>0</td>\n",
       "      <td>1</td>\n",
       "      <td>0</td>\n",
       "      <td>0</td>\n",
       "      <td>0</td>\n",
       "      <td>0</td>\n",
       "      <td>1</td>\n",
       "      <td>0</td>\n",
       "      <td>1</td>\n",
       "    </tr>\n",
       "    <tr>\n",
       "      <th>3</th>\n",
       "      <td>6</td>\n",
       "      <td>-73.961670</td>\n",
       "      <td>40.759720</td>\n",
       "      <td>-73.956779</td>\n",
       "      <td>40.780628</td>\n",
       "      <td>1141</td>\n",
       "      <td>1</td>\n",
       "      <td>5</td>\n",
       "      <td>2.361101</td>\n",
       "      <td>1</td>\n",
       "      <td>0</td>\n",
       "      <td>0</td>\n",
       "      <td>0</td>\n",
       "      <td>0</td>\n",
       "      <td>1</td>\n",
       "      <td>0</td>\n",
       "      <td>1</td>\n",
       "      <td>1</td>\n",
       "      <td>0</td>\n",
       "    </tr>\n",
       "    <tr>\n",
       "      <th>4</th>\n",
       "      <td>1</td>\n",
       "      <td>-74.017120</td>\n",
       "      <td>40.708469</td>\n",
       "      <td>-73.988182</td>\n",
       "      <td>40.740631</td>\n",
       "      <td>848</td>\n",
       "      <td>2</td>\n",
       "      <td>17</td>\n",
       "      <td>4.328540</td>\n",
       "      <td>1</td>\n",
       "      <td>0</td>\n",
       "      <td>0</td>\n",
       "      <td>0</td>\n",
       "      <td>0</td>\n",
       "      <td>1</td>\n",
       "      <td>1</td>\n",
       "      <td>0</td>\n",
       "      <td>1</td>\n",
       "      <td>0</td>\n",
       "    </tr>\n",
       "  </tbody>\n",
       "</table>\n",
       "</div>"
      ],
      "text/plain": [
       "   passenger_count  pickup_longitude  pickup_latitude  dropoff_longitude  \\\n",
       "0                1        -73.953918        40.778873         -73.963875   \n",
       "1                2        -73.988312        40.731743         -73.994751   \n",
       "2                2        -73.997314        40.721458         -73.948029   \n",
       "3                6        -73.961670        40.759720         -73.956779   \n",
       "4                1        -74.017120        40.708469         -73.988182   \n",
       "\n",
       "   dropoff_latitude  trip_duration  pickup_month  day_of_week  distance  \\\n",
       "0         40.771164            400             2           29  1.199074   \n",
       "1         40.694931           1100             3           11  4.129117   \n",
       "2         40.774918           1635             2           21  7.250763   \n",
       "3         40.780628           1141             1            5  2.361101   \n",
       "4         40.740631            848             2           17  4.328540   \n",
       "\n",
       "   store_and_fwd_flag_N  store_and_fwd_flag_Y  pickup_timebin_evening  \\\n",
       "0                     1                     0                       0   \n",
       "1                     1                     0                       0   \n",
       "2                     1                     0                       1   \n",
       "3                     1                     0                       0   \n",
       "4                     1                     0                       0   \n",
       "\n",
       "   pickup_timebin_late night  pickup_timebin_midday  pickup_timebin_morning  \\\n",
       "0                          0                      1                       0   \n",
       "1                          1                      0                       0   \n",
       "2                          0                      0                       0   \n",
       "3                          0                      0                       1   \n",
       "4                          0                      0                       1   \n",
       "\n",
       "   vendor_id_1  vendor_id_2  weekday_weekday  weekday_weekend  \n",
       "0            0            1                0                1  \n",
       "1            1            0                1                0  \n",
       "2            0            1                0                1  \n",
       "3            0            1                1                0  \n",
       "4            1            0                1                0  "
      ]
     },
     "execution_count": 2,
     "metadata": {},
     "output_type": "execute_result"
    }
   ],
   "source": [
    "# Importing Data\n",
    "data_lin = pd.read_csv('Encoded_clean_data.csv')\n",
    "data_lin.head()"
   ]
  },
  {
   "cell_type": "markdown",
   "id": "18d3514f",
   "metadata": {},
   "source": [
    "### Linear Regression with no regularization"
   ]
  },
  {
   "cell_type": "code",
   "execution_count": 3,
   "id": "0a205b4b",
   "metadata": {},
   "outputs": [
    {
     "data": {
      "text/plain": [
       "((725161, 18), (725161,))"
      ]
     },
     "execution_count": 3,
     "metadata": {},
     "output_type": "execute_result"
    }
   ],
   "source": [
    "#seperating independent and dependent variables\n",
    "\n",
    "x = data_lin.drop(['trip_duration'], axis=1)\n",
    "y = data_lin['trip_duration']\n",
    "x.shape, y.shape"
   ]
  },
  {
   "cell_type": "code",
   "execution_count": 4,
   "id": "0964d0d8",
   "metadata": {},
   "outputs": [
    {
     "data": {
      "text/plain": [
       "((543870, 18), (181291, 18))"
      ]
     },
     "execution_count": 4,
     "metadata": {},
     "output_type": "execute_result"
    }
   ],
   "source": [
    "# Importing the train test split function\n",
    "\n",
    "from sklearn.model_selection import train_test_split\n",
    "train_x,test_x,train_y,test_y = train_test_split(x,y, random_state = 56)\n",
    "\n",
    "train_x.shape,test_x.shape"
   ]
  },
  {
   "cell_type": "code",
   "execution_count": 5,
   "id": "73e7ec37",
   "metadata": {},
   "outputs": [],
   "source": [
    "#importing Linear Regression and metric mean square error\n",
    "\n",
    "from sklearn.linear_model import LinearRegression as LR\n",
    "from sklearn.metrics import mean_squared_error as mse"
   ]
  },
  {
   "cell_type": "markdown",
   "id": "e22ca108",
   "metadata": {},
   "source": [
    "### We first fit linear regression without normalize = True"
   ]
  },
  {
   "cell_type": "code",
   "execution_count": 6,
   "id": "a220b52f",
   "metadata": {},
   "outputs": [
    {
     "data": {
      "text/plain": [
       "LinearRegression()"
      ]
     },
     "execution_count": 6,
     "metadata": {},
     "output_type": "execute_result"
    }
   ],
   "source": [
    "# Creating instance of Linear Regresssion\n",
    "lr_ = LR()\n",
    "\n",
    "# Fitting the model\n",
    "lr_.fit(train_x, train_y)"
   ]
  },
  {
   "cell_type": "code",
   "execution_count": 7,
   "id": "372a56af",
   "metadata": {},
   "outputs": [
    {
     "name": "stdout",
     "output_type": "stream",
     "text": [
      "Test RMSE =  409.6876136583587\n"
     ]
    }
   ],
   "source": [
    "# Predicting over the Test Set and calculating error\n",
    "\n",
    "test_predict = lr_.predict(test_x)\n",
    "k = np.sqrt(mse(test_predict, test_y))\n",
    "print('Test RMSE = ', k )"
   ]
  },
  {
   "cell_type": "code",
   "execution_count": 8,
   "id": "fa99f159",
   "metadata": {},
   "outputs": [
    {
     "data": {
      "text/plain": [
       "Text(0.5, 1.0, 'Coefficient plot')"
      ]
     },
     "execution_count": 8,
     "metadata": {},
     "output_type": "execute_result"
    },
    {
     "data": {
      "image/png": "[encoded data removed]",
      "text/plain": [
       "<Figure size 960x720 with 1 Axes>"
      ]
     },
     "metadata": {},
     "output_type": "display_data"
    }
   ],
   "source": [
    "plt.figure(figsize=(8, 6), dpi=120, facecolor='w', edgecolor='b')\n",
    "x = range(len(train_x.columns))\n",
    "y = lr_.coef_\n",
    "plt.bar( x, y )\n",
    "plt.xlabel( \"Variables\")\n",
    "plt.ylabel('Coefficients')\n",
    "plt.title('Coefficient plot')"
   ]
  },
  {
   "cell_type": "markdown",
   "id": "6b874e76",
   "metadata": {},
   "source": [
    "* As we see, there are certain variables with low impact in non normalized regression. They will adjust once we normalize the data and fit the model"
   ]
  },
  {
   "cell_type": "markdown",
   "id": "b473897c",
   "metadata": {},
   "source": [
    "### Now to fit with normalize = True to adjust the scale of the variables"
   ]
  },
  {
   "cell_type": "code",
   "execution_count": 9,
   "id": "b0ed015f",
   "metadata": {},
   "outputs": [
    {
     "data": {
      "text/plain": [
       "LinearRegression(normalize=True)"
      ]
     },
     "execution_count": 9,
     "metadata": {},
     "output_type": "execute_result"
    }
   ],
   "source": [
    "# Creating instance of Linear Regresssion\n",
    "lr = LR(normalize = True)\n",
    "\n",
    "# Fitting the model\n",
    "lr.fit(train_x, train_y)"
   ]
  },
  {
   "cell_type": "code",
   "execution_count": 10,
   "id": "a585717e",
   "metadata": {},
   "outputs": [
    {
     "name": "stdout",
     "output_type": "stream",
     "text": [
      "Test RMSE =  409.6878492992795\n"
     ]
    }
   ],
   "source": [
    "# Predicting over the Test Set and calculating error\n",
    "test_predict = lr.predict(test_x)\n",
    "k = np.sqrt(mse(test_predict, test_y))\n",
    "print('Test RMSE = ', k )"
   ]
  },
  {
   "cell_type": "code",
   "execution_count": 11,
   "id": "7271eecf",
   "metadata": {},
   "outputs": [
    {
     "data": {
      "text/plain": [
       "array([ 3.19237126e+00, -9.19058044e+02,  1.03798597e+03, -1.49636897e+03,\n",
       "       -1.23857186e+03,  1.85002732e+01,  4.53463530e-01,  1.45013479e+02,\n",
       "       -9.93616250e+14, -9.93616250e+14,  7.68381384e+14,  7.68381384e+14,\n",
       "        7.68381384e+14,  7.68381384e+14, -5.10032474e+13, -5.10032474e+13,\n",
       "       -4.71544040e+13, -4.71544040e+13])"
      ]
     },
     "execution_count": 11,
     "metadata": {},
     "output_type": "execute_result"
    }
   ],
   "source": [
    "lr.coef_"
   ]
  },
  {
   "cell_type": "markdown",
   "id": "b342f50f",
   "metadata": {},
   "source": [
    "* The coefficients of the variables after normalize fit "
   ]
  },
  {
   "cell_type": "code",
   "execution_count": 12,
   "id": "f9f385a9",
   "metadata": {},
   "outputs": [
    {
     "data": {
      "text/plain": [
       "Text(0.5, 1.0, 'Normalized Coefficient plot')"
      ]
     },
     "execution_count": 12,
     "metadata": {},
     "output_type": "execute_result"
    },
    {
     "data": {
      "image/png": "[encoded data removed]",
      "text/plain": [
       "<Figure size 960x720 with 1 Axes>"
      ]
     },
     "metadata": {},
     "output_type": "display_data"
    }
   ],
   "source": [
    "plt.figure(figsize=(8, 6), dpi=120, facecolor='w', edgecolor='b')\n",
    "x = range(len(train_x.columns))\n",
    "y = lr.coef_\n",
    "plt.bar( x, y )\n",
    "plt.xlabel( \"Variables\")\n",
    "plt.ylabel('Coefficients')\n",
    "plt.title('Normalized Coefficient plot')"
   ]
  },
  {
   "cell_type": "markdown",
   "id": "e2d8a31a",
   "metadata": {},
   "source": [
    "* As we see, after normalize, we see the scaled down variable impact "
   ]
  },
  {
   "cell_type": "markdown",
   "id": "beae184b",
   "metadata": {},
   "source": [
    "#### Plotting residual curve to check if errors have constant variance and are homoscedastic (basic linear regression assumption check)"
   ]
  },
  {
   "cell_type": "code",
   "execution_count": 32,
   "id": "8633e230",
   "metadata": {},
   "outputs": [
    {
     "data": {
      "text/html": [
       "<div>\n",
       "<style scoped>\n",
       "    .dataframe tbody tr th:only-of-type {\n",
       "        vertical-align: middle;\n",
       "    }\n",
       "\n",
       "    .dataframe tbody tr th {\n",
       "        vertical-align: top;\n",
       "    }\n",
       "\n",
       "    .dataframe thead th {\n",
       "        text-align: right;\n",
       "    }\n",
       "</style>\n",
       "<table border=\"1\" class=\"dataframe\">\n",
       "  <thead>\n",
       "    <tr style=\"text-align: right;\">\n",
       "      <th></th>\n",
       "      <th>fitted values</th>\n",
       "      <th>predicted values</th>\n",
       "      <th>residuals</th>\n",
       "    </tr>\n",
       "  </thead>\n",
       "  <tbody>\n",
       "    <tr>\n",
       "      <th>620841</th>\n",
       "      <td>250</td>\n",
       "      <td>734.375</td>\n",
       "      <td>-484.375</td>\n",
       "    </tr>\n",
       "    <tr>\n",
       "      <th>687647</th>\n",
       "      <td>595</td>\n",
       "      <td>790.625</td>\n",
       "      <td>-195.625</td>\n",
       "    </tr>\n",
       "    <tr>\n",
       "      <th>549714</th>\n",
       "      <td>3030</td>\n",
       "      <td>1820.375</td>\n",
       "      <td>1209.625</td>\n",
       "    </tr>\n",
       "    <tr>\n",
       "      <th>217308</th>\n",
       "      <td>960</td>\n",
       "      <td>963.125</td>\n",
       "      <td>-3.125</td>\n",
       "    </tr>\n",
       "    <tr>\n",
       "      <th>677610</th>\n",
       "      <td>603</td>\n",
       "      <td>752.75</td>\n",
       "      <td>-149.75</td>\n",
       "    </tr>\n",
       "  </tbody>\n",
       "</table>\n",
       "</div>"
      ],
      "text/plain": [
       "        fitted values  predicted values  residuals\n",
       "620841            250           734.375   -484.375\n",
       "687647            595           790.625   -195.625\n",
       "549714           3030          1820.375   1209.625\n",
       "217308            960           963.125     -3.125\n",
       "677610            603            752.75    -149.75"
      ]
     },
     "execution_count": 32,
     "metadata": {},
     "output_type": "execute_result"
    }
   ],
   "source": [
    "# Arranging and calculating the Residuals\n",
    "\n",
    "residuals = pd.DataFrame({\n",
    "    'fitted values' : test_y,\n",
    "    'predicted values' : test_predict,\n",
    "})\n",
    "\n",
    "residuals['residuals'] = residuals['fitted values'] - residuals['predicted values']\n",
    "residuals.head()"
   ]
  },
  {
   "cell_type": "code",
   "execution_count": 34,
   "id": "83add921",
   "metadata": {},
   "outputs": [
    {
     "data": {
      "text/plain": [
       "620841    -484.375\n",
       "687647    -195.625\n",
       "549714    1209.625\n",
       "217308      -3.125\n",
       "677610     -149.75\n",
       "            ...   \n",
       "482824   -106.4375\n",
       "527515    -216.375\n",
       "612109    -970.375\n",
       "380952        -508\n",
       "467262     -15.125\n",
       "Name: residuals, Length: 181291, dtype: float64"
      ]
     },
     "execution_count": 34,
     "metadata": {},
     "output_type": "execute_result"
    }
   ],
   "source": [
    "residuals.residuals[:]"
   ]
  },
  {
   "cell_type": "code",
   "execution_count": 35,
   "id": "883c05eb",
   "metadata": {},
   "outputs": [
    {
     "data": {
      "text/plain": [
       "<matplotlib.legend.Legend at 0x2483e557648>"
      ]
     },
     "execution_count": 35,
     "metadata": {},
     "output_type": "execute_result"
    },
    {
     "data": {
      "image/png": "[encoded data removed]",
      "text/plain": [
       "<Figure size 1200x720 with 1 Axes>"
      ]
     },
     "metadata": {},
     "output_type": "display_data"
    }
   ],
   "source": [
    "# Plot of the residual curve\n",
    "\n",
    "plt.figure(figsize=(10, 6), dpi=120, facecolor='w', edgecolor='b')\n",
    "f = range(0,181291)\n",
    "k = [0 for i in range(0,181291)]\n",
    "plt.scatter( f, residuals.residuals[:], label = 'residuals')\n",
    "plt.plot( f, k , color = 'red', label = 'regression line' )\n",
    "plt.xlabel('fitted points ')\n",
    "plt.ylabel('residuals')\n",
    "plt.title('Residual plot')\n",
    "plt.ylim(-4000, 4000)\n",
    "plt.legend()"
   ]
  },
  {
   "cell_type": "markdown",
   "id": "ed72a044",
   "metadata": {},
   "source": [
    "* As we see, the distribution of residuals is homoscedastic and the variance of errors is nearly constant"
   ]
  },
  {
   "cell_type": "markdown",
   "id": "95ce70bd",
   "metadata": {},
   "source": [
    "## Now to fit with regularization"
   ]
  },
  {
   "cell_type": "markdown",
   "id": "06f11ebc",
   "metadata": {},
   "source": [
    "## RIDGE Regression"
   ]
  },
  {
   "cell_type": "code",
   "execution_count": 13,
   "id": "fb5e1c95",
   "metadata": {},
   "outputs": [],
   "source": [
    "# Importing ridge from sklearn's linear_model module\n",
    "from sklearn.linear_model import Ridge"
   ]
  },
  {
   "cell_type": "code",
   "execution_count": 14,
   "id": "44dbfeac",
   "metadata": {},
   "outputs": [],
   "source": [
    "#Set the different values of alpha to be tested\n",
    "alpha_ridge = [0, 1e-8, 1e-4, 1e-3,1e-2, 1, 5, 10, 20, 25]"
   ]
  },
  {
   "cell_type": "code",
   "execution_count": 15,
   "id": "5130904a",
   "metadata": {},
   "outputs": [],
   "source": [
    "# defining a function which will fit ridge regression model, plot the results, and return the coefficients\n",
    "\n",
    "def ridge_regression(train_x, train_y, test_x, test_y, alpha):\n",
    "    \n",
    "    #Fit the model\n",
    "    \n",
    "    ridgereg = Ridge(alpha=alpha,normalize=True)\n",
    "    ridgereg.fit(train_x,train_y)\n",
    "    train_y_pred = ridgereg.predict(train_x)\n",
    "    test_y_pred = ridgereg.predict(test_x)\n",
    "    \n",
    "    return([np.sqrt(mse(train_y, train_y_pred)), np.sqrt(mse(test_y, test_y_pred))])"
   ]
  },
  {
   "cell_type": "code",
   "execution_count": 16,
   "id": "3315d351",
   "metadata": {},
   "outputs": [
    {
     "name": "stdout",
     "output_type": "stream",
     "text": [
      "The RMSE values of ridge are as follows-\n",
      "\n"
     ]
    },
    {
     "data": {
      "text/html": [
       "<div>\n",
       "<style scoped>\n",
       "    .dataframe tbody tr th:only-of-type {\n",
       "        vertical-align: middle;\n",
       "    }\n",
       "\n",
       "    .dataframe tbody tr th {\n",
       "        vertical-align: top;\n",
       "    }\n",
       "\n",
       "    .dataframe thead th {\n",
       "        text-align: right;\n",
       "    }\n",
       "</style>\n",
       "<table border=\"1\" class=\"dataframe\">\n",
       "  <thead>\n",
       "    <tr style=\"text-align: right;\">\n",
       "      <th></th>\n",
       "      <th>Alpha</th>\n",
       "      <th>Train</th>\n",
       "      <th>Test</th>\n",
       "    </tr>\n",
       "  </thead>\n",
       "  <tbody>\n",
       "    <tr>\n",
       "      <th>0</th>\n",
       "      <td>0</td>\n",
       "      <td>415.8347</td>\n",
       "      <td>409.6876</td>\n",
       "    </tr>\n",
       "    <tr>\n",
       "      <th>1</th>\n",
       "      <td>1e-08</td>\n",
       "      <td>415.8347</td>\n",
       "      <td>409.6876</td>\n",
       "    </tr>\n",
       "    <tr>\n",
       "      <th>2</th>\n",
       "      <td>0.0001</td>\n",
       "      <td>415.8347</td>\n",
       "      <td>409.687</td>\n",
       "    </tr>\n",
       "    <tr>\n",
       "      <th>3</th>\n",
       "      <td>0.001</td>\n",
       "      <td>415.8354</td>\n",
       "      <td>409.6817</td>\n",
       "    </tr>\n",
       "    <tr>\n",
       "      <th>4</th>\n",
       "      <td>0.01</td>\n",
       "      <td>415.9065</td>\n",
       "      <td>409.696</td>\n",
       "    </tr>\n",
       "    <tr>\n",
       "      <th>5</th>\n",
       "      <td>1</td>\n",
       "      <td>487.2126</td>\n",
       "      <td>480.8413</td>\n",
       "    </tr>\n",
       "    <tr>\n",
       "      <th>6</th>\n",
       "      <td>5</td>\n",
       "      <td>581.8647</td>\n",
       "      <td>576.7989</td>\n",
       "    </tr>\n",
       "    <tr>\n",
       "      <th>7</th>\n",
       "      <td>10</td>\n",
       "      <td>613.7416</td>\n",
       "      <td>609.1181</td>\n",
       "    </tr>\n",
       "    <tr>\n",
       "      <th>8</th>\n",
       "      <td>20</td>\n",
       "      <td>634.6423</td>\n",
       "      <td>630.2997</td>\n",
       "    </tr>\n",
       "    <tr>\n",
       "      <th>9</th>\n",
       "      <td>25</td>\n",
       "      <td>639.3494</td>\n",
       "      <td>635.069</td>\n",
       "    </tr>\n",
       "  </tbody>\n",
       "</table>\n",
       "</div>"
      ],
      "text/plain": [
       "   Alpha    Train     Test\n",
       "0      0 415.8347 409.6876\n",
       "1  1e-08 415.8347 409.6876\n",
       "2 0.0001 415.8347  409.687\n",
       "3  0.001 415.8354 409.6817\n",
       "4   0.01 415.9065  409.696\n",
       "5      1 487.2126 480.8413\n",
       "6      5 581.8647 576.7989\n",
       "7     10 613.7416 609.1181\n",
       "8     20 634.6423 630.2997\n",
       "9     25 639.3494  635.069"
      ]
     },
     "execution_count": 16,
     "metadata": {},
     "output_type": "execute_result"
    }
   ],
   "source": [
    "# Assign a dataframe to see values of errors on train and test set\n",
    "\n",
    "df_ridge = pd.DataFrame(columns=[\"Alpha\",\"Train\",\"Test\"])\n",
    "\n",
    "print(\"The RMSE values of ridge are as follows-\\n\")\n",
    "\n",
    "for a in alpha_ridge:\n",
    "    \n",
    "    rid = ridge_regression(train_x,train_y, test_x, test_y, a)\n",
    "    \n",
    "    df_ridge = df_ridge.append({\"Alpha\":a,\"Train\":rid[0],\"Test\":rid[1]},ignore_index=True)\n",
    "    \n",
    "#Set the display format to be scientific for ease of analysis\n",
    "\n",
    "pd.options.display.float_format = '{:.7g}'.format\n",
    "\n",
    "df_ridge"
   ]
  },
  {
   "cell_type": "markdown",
   "id": "f74279a8",
   "metadata": {},
   "source": [
    "* As we see that the train error increases as the alpha value increases, which is the same case for test as well"
   ]
  },
  {
   "cell_type": "code",
   "execution_count": 17,
   "id": "6bb7fbbf",
   "metadata": {},
   "outputs": [
    {
     "data": {
      "text/plain": [
       "<matplotlib.legend.Legend at 0x2484004d808>"
      ]
     },
     "execution_count": 17,
     "metadata": {},
     "output_type": "execute_result"
    },
    {
     "data": {
      "image/png": "[encoded data removed]",
      "text/plain": [
       "<Figure size 432x288 with 1 Axes>"
      ]
     },
     "metadata": {
      "needs_background": "light"
     },
     "output_type": "display_data"
    }
   ],
   "source": [
    "# Plotting the train and test error plot\n",
    "\n",
    "df_ridge[['Train','Test']].plot()\n",
    "plt.xlabel('Alpha Values')\n",
    "plt.ylabel('RMSE')\n",
    "plt.title('RIDGE REGRESSION TRAIN AND TEST RMSE VALUES')\n",
    "plt.legend(['train', 'test'])"
   ]
  },
  {
   "cell_type": "markdown",
   "id": "8c98b5f8",
   "metadata": {},
   "source": [
    "* As we see, applying regularization, the train and test error show the same trend and are very close to each other.\n",
    "* Since the train and test error are low for low values of alpha, let us consider alpha = 0.0001, and get the score of model"
   ]
  },
  {
   "cell_type": "code",
   "execution_count": 18,
   "id": "593c85c4",
   "metadata": {},
   "outputs": [],
   "source": [
    "# ridge fit for alpha = 0.0001\n",
    "\n",
    "ridgeReg = Ridge(alpha=0.0001)\n",
    "\n",
    "ridgeReg.fit(train_x,train_y)\n",
    "\n",
    "#train and test scorefor ridge regression\n",
    "\n",
    "train_score_ridge = ridgeReg.score(train_x, train_y)\n",
    "test_score_ridge = ridgeReg.score(test_x, test_y)"
   ]
  },
  {
   "cell_type": "markdown",
   "id": "79c5c9af",
   "metadata": {},
   "source": [
    "#### Ridge model score"
   ]
  },
  {
   "cell_type": "code",
   "execution_count": 19,
   "id": "4b7b7d7f",
   "metadata": {},
   "outputs": [
    {
     "name": "stdout",
     "output_type": "stream",
     "text": [
      "The train score for ridge model is 0.6034189440269233\n",
      "The test score for ridge model is 0.6103405204913142\n"
     ]
    }
   ],
   "source": [
    "print(\"The train score for ridge model is {}\".format(train_score_ridge))\n",
    "print(\"The test score for ridge model is {}\".format(test_score_ridge))"
   ]
  },
  {
   "cell_type": "markdown",
   "id": "b6c81d7f",
   "metadata": {},
   "source": [
    "## LASSO Regression"
   ]
  },
  {
   "cell_type": "code",
   "execution_count": 20,
   "id": "7fcfc874",
   "metadata": {},
   "outputs": [],
   "source": [
    "#Importing Lasso model from sklearn's linear_model module\n",
    "\n",
    "from sklearn.linear_model import Lasso"
   ]
  },
  {
   "cell_type": "code",
   "execution_count": 21,
   "id": "383b7033",
   "metadata": {},
   "outputs": [],
   "source": [
    "#Define the alpha values to test\n",
    "\n",
    "alpha_lasso = [0, 1e-10, 1e-8, 1e-5,1e-4, 1e-3,1e-2, 1, 5, 10]"
   ]
  },
  {
   "cell_type": "code",
   "execution_count": 22,
   "id": "174c3179",
   "metadata": {},
   "outputs": [],
   "source": [
    "# defining a function which will fit ridge regression model, plot the results, and return the coefficients\n",
    "\n",
    "def lasso_regression(train_x, train_y, test_x, test_y, alpha):\n",
    "    \n",
    "    #Fit the model\n",
    "    \n",
    "    lassoreg = Lasso(alpha=alpha,normalize=True)\n",
    "    lassoreg.fit(train_x,train_y)\n",
    "   \n",
    "    train_y_pred = lassoreg.predict(train_x)\n",
    "    test_y_pred = lassoreg.predict(test_x)\n",
    "    \n",
    "    return([np.sqrt(mse(train_y, train_y_pred)), np.sqrt(mse(test_y, test_y_pred))])"
   ]
  },
  {
   "cell_type": "code",
   "execution_count": 23,
   "id": "f78b6b83",
   "metadata": {},
   "outputs": [
    {
     "name": "stdout",
     "output_type": "stream",
     "text": [
      "The RMSE values of lasso are as follows-\n",
      "\n"
     ]
    },
    {
     "data": {
      "text/html": [
       "<div>\n",
       "<style scoped>\n",
       "    .dataframe tbody tr th:only-of-type {\n",
       "        vertical-align: middle;\n",
       "    }\n",
       "\n",
       "    .dataframe tbody tr th {\n",
       "        vertical-align: top;\n",
       "    }\n",
       "\n",
       "    .dataframe thead th {\n",
       "        text-align: right;\n",
       "    }\n",
       "</style>\n",
       "<table border=\"1\" class=\"dataframe\">\n",
       "  <thead>\n",
       "    <tr style=\"text-align: right;\">\n",
       "      <th></th>\n",
       "      <th>Alpha</th>\n",
       "      <th>Train</th>\n",
       "      <th>Test</th>\n",
       "    </tr>\n",
       "  </thead>\n",
       "  <tbody>\n",
       "    <tr>\n",
       "      <th>0</th>\n",
       "      <td>0</td>\n",
       "      <td>415.8347</td>\n",
       "      <td>409.6876</td>\n",
       "    </tr>\n",
       "    <tr>\n",
       "      <th>1</th>\n",
       "      <td>1e-10</td>\n",
       "      <td>415.8347</td>\n",
       "      <td>409.6876</td>\n",
       "    </tr>\n",
       "    <tr>\n",
       "      <th>2</th>\n",
       "      <td>1e-08</td>\n",
       "      <td>415.8347</td>\n",
       "      <td>409.6876</td>\n",
       "    </tr>\n",
       "    <tr>\n",
       "      <th>3</th>\n",
       "      <td>1e-05</td>\n",
       "      <td>415.8347</td>\n",
       "      <td>409.6876</td>\n",
       "    </tr>\n",
       "    <tr>\n",
       "      <th>4</th>\n",
       "      <td>0.0001</td>\n",
       "      <td>415.8348</td>\n",
       "      <td>409.6875</td>\n",
       "    </tr>\n",
       "    <tr>\n",
       "      <th>5</th>\n",
       "      <td>0.001</td>\n",
       "      <td>415.8472</td>\n",
       "      <td>409.698</td>\n",
       "    </tr>\n",
       "    <tr>\n",
       "      <th>6</th>\n",
       "      <td>0.01</td>\n",
       "      <td>416.8931</td>\n",
       "      <td>410.7103</td>\n",
       "    </tr>\n",
       "    <tr>\n",
       "      <th>7</th>\n",
       "      <td>1</td>\n",
       "      <td>660.3204</td>\n",
       "      <td>656.312</td>\n",
       "    </tr>\n",
       "    <tr>\n",
       "      <th>8</th>\n",
       "      <td>5</td>\n",
       "      <td>660.3204</td>\n",
       "      <td>656.312</td>\n",
       "    </tr>\n",
       "    <tr>\n",
       "      <th>9</th>\n",
       "      <td>10</td>\n",
       "      <td>660.3204</td>\n",
       "      <td>656.312</td>\n",
       "    </tr>\n",
       "  </tbody>\n",
       "</table>\n",
       "</div>"
      ],
      "text/plain": [
       "   Alpha    Train     Test\n",
       "0      0 415.8347 409.6876\n",
       "1  1e-10 415.8347 409.6876\n",
       "2  1e-08 415.8347 409.6876\n",
       "3  1e-05 415.8347 409.6876\n",
       "4 0.0001 415.8348 409.6875\n",
       "5  0.001 415.8472  409.698\n",
       "6   0.01 416.8931 410.7103\n",
       "7      1 660.3204  656.312\n",
       "8      5 660.3204  656.312\n",
       "9     10 660.3204  656.312"
      ]
     },
     "execution_count": 23,
     "metadata": {},
     "output_type": "execute_result"
    }
   ],
   "source": [
    "# Assign a dataframe to see values of errors on train and test set\n",
    "\n",
    "df_lasso=pd.DataFrame(columns=[\"Alpha\",\"Train\",\"Test\"])\n",
    "\n",
    "print(\"The RMSE values of lasso are as follows-\\n\")\n",
    "\n",
    "for a in alpha_lasso:\n",
    "    \n",
    "    las = lasso_regression(train_x,train_y, test_x, test_y, a)\n",
    "    \n",
    "    df_lasso = df_lasso.append({\"Alpha\":a,\"Train\":las[0],\"Test\":las[1]},ignore_index=True)\n",
    "\n",
    "#Set the display format to be scientific for ease of analysis\n",
    "\n",
    "pd.options.display.float_format = '{:.7g}'.format\n",
    "\n",
    "df_lasso"
   ]
  },
  {
   "cell_type": "markdown",
   "id": "520a0d59",
   "metadata": {},
   "source": [
    "* As we see here also the training and test error are increasing with increasing alpha values"
   ]
  },
  {
   "cell_type": "code",
   "execution_count": 24,
   "id": "c5df0d0f",
   "metadata": {},
   "outputs": [
    {
     "data": {
      "text/plain": [
       "<matplotlib.legend.Legend at 0x2483d2d08c8>"
      ]
     },
     "execution_count": 24,
     "metadata": {},
     "output_type": "execute_result"
    },
    {
     "data": {
      "image/png": "[encoded data removed]",
      "text/plain": [
       "<Figure size 432x288 with 1 Axes>"
      ]
     },
     "metadata": {
      "needs_background": "light"
     },
     "output_type": "display_data"
    }
   ],
   "source": [
    "# Plotting the train and test error plot\n",
    "\n",
    "df_lasso[['Train','Test']].plot()\n",
    "plt.xlabel('Alpha Values ')\n",
    "plt.ylabel('RMSE')\n",
    "plt.title('LASSO REGRESSION TRAIN AND TEST RMSE VALUES')\n",
    "plt.legend(['train', 'test'])"
   ]
  },
  {
   "cell_type": "markdown",
   "id": "bc3bf60d",
   "metadata": {},
   "source": [
    "* Here too, the train and test errors have similar values and trend with a sharp rise between decimal and integer value and it becomes constant again.\n",
    "* Let us consider alpha = 0.0001 (where train and test are lowest for given alpha values) for this model too like ridge for score"
   ]
  },
  {
   "cell_type": "code",
   "execution_count": 25,
   "id": "96795161",
   "metadata": {},
   "outputs": [],
   "source": [
    "# ridge fit for alpha = 0.0001\n",
    "\n",
    "lasso = Lasso(alpha = 0.0001)\n",
    "\n",
    "lasso.fit(train_x,train_y)\n",
    "\n",
    "#train and test scorefor ridge regression\n",
    "\n",
    "train_score_ls = lasso.score(train_x,train_y)\n",
    "\n",
    "test_score_ls = lasso.score(train_x,train_y)"
   ]
  },
  {
   "cell_type": "markdown",
   "id": "1b42b14f",
   "metadata": {},
   "source": [
    "#### Lasso model score"
   ]
  },
  {
   "cell_type": "code",
   "execution_count": 26,
   "id": "a250584c",
   "metadata": {},
   "outputs": [
    {
     "name": "stdout",
     "output_type": "stream",
     "text": [
      "The train score for lasso model is 0.6034189438818334\n",
      "The test score for lasso model is 0.6034189438818334\n"
     ]
    }
   ],
   "source": [
    "print(\"The train score for lasso model is {}\".format(train_score_ls))\n",
    "print(\"The test score for lasso model is {}\".format(test_score_ls))"
   ]
  },
  {
   "cell_type": "markdown",
   "id": "823b02fa",
   "metadata": {},
   "source": [
    "#### Updating the scores for both in the csv file "
   ]
  },
  {
   "cell_type": "code",
   "execution_count": 29,
   "id": "aedbda4f",
   "metadata": {},
   "outputs": [],
   "source": [
    "# read the csv file that stores the values of scores\n",
    "\n",
    "score_df = pd.read_csv('score.csv')\n",
    "\n",
    "# update the lin regression values\n",
    "\n",
    "score_df = score_df.append(pd.DataFrame({'model':['Ridge_Reg','Lasso_Rig'],'train_score':[train_score_ridge,train_score_ls],'test_score':[test_score_ridge,test_score_ls]}),ignore_index = True)"
   ]
  },
  {
   "cell_type": "code",
   "execution_count": 31,
   "id": "5976d427",
   "metadata": {},
   "outputs": [],
   "source": [
    "# updating the csv file\n",
    "\n",
    "score_df.to_csv(\"score.csv\", index=False)"
   ]
  },
  {
   "cell_type": "code",
   "execution_count": null,
   "id": "ba1ed8e9",
   "metadata": {},
   "outputs": [],
   "source": []
  }
 ],
 "metadata": {
  "kernelspec": {
   "display_name": "Python 3 (ipykernel)",
   "language": "python",
   "name": "python3"
  },
  "language_info": {
   "codemirror_mode": {
    "name": "ipython",
    "version": 3
   },
   "file_extension": ".py",
   "mimetype": "text/x-python",
   "name": "python",
   "nbconvert_exporter": "python",
   "pygments_lexer": "ipython3",
   "version": "3.7.13"
  }
 },
 "nbformat": 4,
 "nbformat_minor": 5
}
