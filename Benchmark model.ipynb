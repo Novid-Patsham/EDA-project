{
 "cells": [
  {
   "cell_type": "markdown",
   "id": "a10aca30",
   "metadata": {},
   "source": [
    "### This notebook is for both benchmark model and evaluation metric choice [task 1 & 2 ]"
   ]
  },
  {
   "cell_type": "code",
   "execution_count": 1,
   "id": "38b82802",
   "metadata": {},
   "outputs": [],
   "source": [
    "#importing libraries \n",
    "\n",
    "import pandas as pd \n",
    "import numpy as np\n",
    "import matplotlib.pyplot as plt\n",
    "import warnings\n",
    "import seaborn as sns\n",
    "warnings.filterwarnings('ignore')"
   ]
  },
  {
   "cell_type": "code",
   "execution_count": 2,
   "id": "acdd5737",
   "metadata": {},
   "outputs": [
    {
     "data": {
      "text/html": [
       "<div>\n",
       "<style scoped>\n",
       "    .dataframe tbody tr th:only-of-type {\n",
       "        vertical-align: middle;\n",
       "    }\n",
       "\n",
       "    .dataframe tbody tr th {\n",
       "        vertical-align: top;\n",
       "    }\n",
       "\n",
       "    .dataframe thead th {\n",
       "        text-align: right;\n",
       "    }\n",
       "</style>\n",
       "<table border=\"1\" class=\"dataframe\">\n",
       "  <thead>\n",
       "    <tr style=\"text-align: right;\">\n",
       "      <th></th>\n",
       "      <th>id</th>\n",
       "      <th>vendor_id</th>\n",
       "      <th>pickup_datetime</th>\n",
       "      <th>dropoff_datetime</th>\n",
       "      <th>passenger_count</th>\n",
       "      <th>pickup_longitude</th>\n",
       "      <th>pickup_latitude</th>\n",
       "      <th>dropoff_longitude</th>\n",
       "      <th>dropoff_latitude</th>\n",
       "      <th>store_and_fwd_flag</th>\n",
       "      <th>trip_duration</th>\n",
       "      <th>pickup_month</th>\n",
       "      <th>pickup_day_of_week</th>\n",
       "      <th>pickup_hour_of_day</th>\n",
       "      <th>pickup_day</th>\n",
       "      <th>pickup_min</th>\n",
       "      <th>distance</th>\n",
       "    </tr>\n",
       "  </thead>\n",
       "  <tbody>\n",
       "    <tr>\n",
       "      <th>0</th>\n",
       "      <td>id1080784</td>\n",
       "      <td>2</td>\n",
       "      <td>2016-02-29 16:40:21</td>\n",
       "      <td>2016-02-29 16:47:01</td>\n",
       "      <td>1</td>\n",
       "      <td>-73.953918</td>\n",
       "      <td>40.778873</td>\n",
       "      <td>-73.963875</td>\n",
       "      <td>40.771164</td>\n",
       "      <td>N</td>\n",
       "      <td>400</td>\n",
       "      <td>2</td>\n",
       "      <td>0</td>\n",
       "      <td>16</td>\n",
       "      <td>29</td>\n",
       "      <td>40</td>\n",
       "      <td>1.199074</td>\n",
       "    </tr>\n",
       "    <tr>\n",
       "      <th>1</th>\n",
       "      <td>id0889885</td>\n",
       "      <td>1</td>\n",
       "      <td>2016-03-11 23:35:37</td>\n",
       "      <td>2016-03-11 23:53:57</td>\n",
       "      <td>2</td>\n",
       "      <td>-73.988312</td>\n",
       "      <td>40.731743</td>\n",
       "      <td>-73.994751</td>\n",
       "      <td>40.694931</td>\n",
       "      <td>N</td>\n",
       "      <td>1100</td>\n",
       "      <td>3</td>\n",
       "      <td>4</td>\n",
       "      <td>23</td>\n",
       "      <td>11</td>\n",
       "      <td>35</td>\n",
       "      <td>4.129117</td>\n",
       "    </tr>\n",
       "    <tr>\n",
       "      <th>2</th>\n",
       "      <td>id0857912</td>\n",
       "      <td>2</td>\n",
       "      <td>2016-02-21 17:59:33</td>\n",
       "      <td>2016-02-21 18:26:48</td>\n",
       "      <td>2</td>\n",
       "      <td>-73.997314</td>\n",
       "      <td>40.721458</td>\n",
       "      <td>-73.948029</td>\n",
       "      <td>40.774918</td>\n",
       "      <td>N</td>\n",
       "      <td>1635</td>\n",
       "      <td>2</td>\n",
       "      <td>6</td>\n",
       "      <td>17</td>\n",
       "      <td>21</td>\n",
       "      <td>59</td>\n",
       "      <td>7.250763</td>\n",
       "    </tr>\n",
       "    <tr>\n",
       "      <th>3</th>\n",
       "      <td>id3744273</td>\n",
       "      <td>2</td>\n",
       "      <td>2016-01-05 09:44:31</td>\n",
       "      <td>2016-01-05 10:03:32</td>\n",
       "      <td>6</td>\n",
       "      <td>-73.961670</td>\n",
       "      <td>40.759720</td>\n",
       "      <td>-73.956779</td>\n",
       "      <td>40.780628</td>\n",
       "      <td>N</td>\n",
       "      <td>1141</td>\n",
       "      <td>1</td>\n",
       "      <td>1</td>\n",
       "      <td>9</td>\n",
       "      <td>5</td>\n",
       "      <td>44</td>\n",
       "      <td>2.361101</td>\n",
       "    </tr>\n",
       "    <tr>\n",
       "      <th>4</th>\n",
       "      <td>id0232939</td>\n",
       "      <td>1</td>\n",
       "      <td>2016-02-17 06:42:23</td>\n",
       "      <td>2016-02-17 06:56:31</td>\n",
       "      <td>1</td>\n",
       "      <td>-74.017120</td>\n",
       "      <td>40.708469</td>\n",
       "      <td>-73.988182</td>\n",
       "      <td>40.740631</td>\n",
       "      <td>N</td>\n",
       "      <td>848</td>\n",
       "      <td>2</td>\n",
       "      <td>2</td>\n",
       "      <td>6</td>\n",
       "      <td>17</td>\n",
       "      <td>42</td>\n",
       "      <td>4.328540</td>\n",
       "    </tr>\n",
       "  </tbody>\n",
       "</table>\n",
       "</div>"
      ],
      "text/plain": [
       "          id  vendor_id      pickup_datetime     dropoff_datetime  \\\n",
       "0  id1080784          2  2016-02-29 16:40:21  2016-02-29 16:47:01   \n",
       "1  id0889885          1  2016-03-11 23:35:37  2016-03-11 23:53:57   \n",
       "2  id0857912          2  2016-02-21 17:59:33  2016-02-21 18:26:48   \n",
       "3  id3744273          2  2016-01-05 09:44:31  2016-01-05 10:03:32   \n",
       "4  id0232939          1  2016-02-17 06:42:23  2016-02-17 06:56:31   \n",
       "\n",
       "   passenger_count  pickup_longitude  pickup_latitude  dropoff_longitude  \\\n",
       "0                1        -73.953918        40.778873         -73.963875   \n",
       "1                2        -73.988312        40.731743         -73.994751   \n",
       "2                2        -73.997314        40.721458         -73.948029   \n",
       "3                6        -73.961670        40.759720         -73.956779   \n",
       "4                1        -74.017120        40.708469         -73.988182   \n",
       "\n",
       "   dropoff_latitude store_and_fwd_flag  trip_duration  pickup_month  \\\n",
       "0         40.771164                  N            400             2   \n",
       "1         40.694931                  N           1100             3   \n",
       "2         40.774918                  N           1635             2   \n",
       "3         40.780628                  N           1141             1   \n",
       "4         40.740631                  N            848             2   \n",
       "\n",
       "   pickup_day_of_week  pickup_hour_of_day  pickup_day  pickup_min  distance  \n",
       "0                   0                  16          29          40  1.199074  \n",
       "1                   4                  23          11          35  4.129117  \n",
       "2                   6                  17          21          59  7.250763  \n",
       "3                   1                   9           5          44  2.361101  \n",
       "4                   2                   6          17          42  4.328540  "
      ]
     },
     "execution_count": 2,
     "metadata": {},
     "output_type": "execute_result"
    }
   ],
   "source": [
    "# Importing the cleaned dataset\n",
    "\n",
    "data = pd.read_csv('cleaned_nyctrip_data.csv')\n",
    "data.head()"
   ]
  },
  {
   "cell_type": "code",
   "execution_count": 3,
   "id": "b3250eda",
   "metadata": {},
   "outputs": [],
   "source": [
    "# We wont need certain columns so we'll drop them\n",
    "\n",
    "data.drop(['id','pickup_datetime','dropoff_datetime'],axis=1,inplace = True) \n",
    "\n",
    "# id has no contribution, pickup time we extracted necessary information and we have trip duration so we can remove drop time also"
   ]
  },
  {
   "cell_type": "markdown",
   "id": "4a8916b9",
   "metadata": {},
   "source": [
    "#### Converting the categorical col store_and_fwd_flag to numerical"
   ]
  },
  {
   "cell_type": "code",
   "execution_count": 4,
   "id": "684c27ed",
   "metadata": {},
   "outputs": [],
   "source": [
    "# Using one hot encoding \n",
    "\n",
    "data = pd.get_dummies(data, columns = ['store_and_fwd_flag'])"
   ]
  },
  {
   "cell_type": "code",
   "execution_count": 5,
   "id": "fc6f6d5f",
   "metadata": {},
   "outputs": [],
   "source": [
    "# Shuffling the dataset to split into train and test\n",
    "from sklearn.utils import shuffle\n",
    "\n",
    "data = shuffle(data, random_state = 42)\n",
    "\n",
    "#creating 4 divisions and using 3 parts for train and other for test\n",
    "div = int(data.shape[0]/4)\n",
    "train = data.loc[:3*div+1,:]\n",
    "test = data.loc[3*div+1:]"
   ]
  },
  {
   "cell_type": "code",
   "execution_count": 6,
   "id": "5c028424",
   "metadata": {},
   "outputs": [
    {
     "data": {
      "text/html": [
       "<div>\n",
       "<style scoped>\n",
       "    .dataframe tbody tr th:only-of-type {\n",
       "        vertical-align: middle;\n",
       "    }\n",
       "\n",
       "    .dataframe tbody tr th {\n",
       "        vertical-align: top;\n",
       "    }\n",
       "\n",
       "    .dataframe thead th {\n",
       "        text-align: right;\n",
       "    }\n",
       "</style>\n",
       "<table border=\"1\" class=\"dataframe\">\n",
       "  <thead>\n",
       "    <tr style=\"text-align: right;\">\n",
       "      <th></th>\n",
       "      <th>vendor_id</th>\n",
       "      <th>passenger_count</th>\n",
       "      <th>pickup_longitude</th>\n",
       "      <th>pickup_latitude</th>\n",
       "      <th>dropoff_longitude</th>\n",
       "      <th>dropoff_latitude</th>\n",
       "      <th>trip_duration</th>\n",
       "      <th>pickup_month</th>\n",
       "      <th>pickup_day_of_week</th>\n",
       "      <th>pickup_hour_of_day</th>\n",
       "      <th>pickup_day</th>\n",
       "      <th>pickup_min</th>\n",
       "      <th>distance</th>\n",
       "      <th>store_and_fwd_flag_N</th>\n",
       "      <th>store_and_fwd_flag_Y</th>\n",
       "    </tr>\n",
       "  </thead>\n",
       "  <tbody>\n",
       "    <tr>\n",
       "      <th>421221</th>\n",
       "      <td>1</td>\n",
       "      <td>1</td>\n",
       "      <td>-73.983467</td>\n",
       "      <td>40.766060</td>\n",
       "      <td>-73.908745</td>\n",
       "      <td>40.713913</td>\n",
       "      <td>1020</td>\n",
       "      <td>6</td>\n",
       "      <td>2</td>\n",
       "      <td>2</td>\n",
       "      <td>15</td>\n",
       "      <td>46</td>\n",
       "      <td>8.558855</td>\n",
       "      <td>1</td>\n",
       "      <td>0</td>\n",
       "    </tr>\n",
       "    <tr>\n",
       "      <th>577442</th>\n",
       "      <td>2</td>\n",
       "      <td>1</td>\n",
       "      <td>-73.977921</td>\n",
       "      <td>40.786476</td>\n",
       "      <td>-73.953033</td>\n",
       "      <td>40.782887</td>\n",
       "      <td>1086</td>\n",
       "      <td>1</td>\n",
       "      <td>0</td>\n",
       "      <td>16</td>\n",
       "      <td>25</td>\n",
       "      <td>39</td>\n",
       "      <td>2.133011</td>\n",
       "      <td>1</td>\n",
       "      <td>0</td>\n",
       "    </tr>\n",
       "    <tr>\n",
       "      <th>374537</th>\n",
       "      <td>2</td>\n",
       "      <td>1</td>\n",
       "      <td>-73.961266</td>\n",
       "      <td>40.768841</td>\n",
       "      <td>-73.957413</td>\n",
       "      <td>40.774651</td>\n",
       "      <td>86</td>\n",
       "      <td>6</td>\n",
       "      <td>0</td>\n",
       "      <td>19</td>\n",
       "      <td>13</td>\n",
       "      <td>22</td>\n",
       "      <td>0.722916</td>\n",
       "      <td>1</td>\n",
       "      <td>0</td>\n",
       "    </tr>\n",
       "    <tr>\n",
       "      <th>396830</th>\n",
       "      <td>2</td>\n",
       "      <td>2</td>\n",
       "      <td>-73.973343</td>\n",
       "      <td>40.754379</td>\n",
       "      <td>-73.977364</td>\n",
       "      <td>40.749031</td>\n",
       "      <td>235</td>\n",
       "      <td>5</td>\n",
       "      <td>1</td>\n",
       "      <td>17</td>\n",
       "      <td>24</td>\n",
       "      <td>13</td>\n",
       "      <td>0.684374</td>\n",
       "      <td>1</td>\n",
       "      <td>0</td>\n",
       "    </tr>\n",
       "    <tr>\n",
       "      <th>594463</th>\n",
       "      <td>1</td>\n",
       "      <td>1</td>\n",
       "      <td>-73.992935</td>\n",
       "      <td>40.748081</td>\n",
       "      <td>-74.004181</td>\n",
       "      <td>40.721062</td>\n",
       "      <td>380</td>\n",
       "      <td>6</td>\n",
       "      <td>2</td>\n",
       "      <td>23</td>\n",
       "      <td>1</td>\n",
       "      <td>11</td>\n",
       "      <td>3.150309</td>\n",
       "      <td>1</td>\n",
       "      <td>0</td>\n",
       "    </tr>\n",
       "  </tbody>\n",
       "</table>\n",
       "</div>"
      ],
      "text/plain": [
       "        vendor_id  passenger_count  pickup_longitude  pickup_latitude  \\\n",
       "421221          1                1        -73.983467        40.766060   \n",
       "577442          2                1        -73.977921        40.786476   \n",
       "374537          2                1        -73.961266        40.768841   \n",
       "396830          2                2        -73.973343        40.754379   \n",
       "594463          1                1        -73.992935        40.748081   \n",
       "\n",
       "        dropoff_longitude  dropoff_latitude  trip_duration  pickup_month  \\\n",
       "421221         -73.908745         40.713913           1020             6   \n",
       "577442         -73.953033         40.782887           1086             1   \n",
       "374537         -73.957413         40.774651             86             6   \n",
       "396830         -73.977364         40.749031            235             5   \n",
       "594463         -74.004181         40.721062            380             6   \n",
       "\n",
       "        pickup_day_of_week  pickup_hour_of_day  pickup_day  pickup_min  \\\n",
       "421221                   2                   2          15          46   \n",
       "577442                   0                  16          25          39   \n",
       "374537                   0                  19          13          22   \n",
       "396830                   1                  17          24          13   \n",
       "594463                   2                  23           1          11   \n",
       "\n",
       "        distance  store_and_fwd_flag_N  store_and_fwd_flag_Y  \n",
       "421221  8.558855                     1                     0  \n",
       "577442  2.133011                     1                     0  \n",
       "374537  0.722916                     1                     0  \n",
       "396830  0.684374                     1                     0  \n",
       "594463  3.150309                     1                     0  "
      ]
     },
     "execution_count": 6,
     "metadata": {},
     "output_type": "execute_result"
    }
   ],
   "source": [
    "train.head()"
   ]
  },
  {
   "cell_type": "code",
   "execution_count": 7,
   "id": "f2119d37",
   "metadata": {},
   "outputs": [
    {
     "data": {
      "text/html": [
       "<div>\n",
       "<style scoped>\n",
       "    .dataframe tbody tr th:only-of-type {\n",
       "        vertical-align: middle;\n",
       "    }\n",
       "\n",
       "    .dataframe tbody tr th {\n",
       "        vertical-align: top;\n",
       "    }\n",
       "\n",
       "    .dataframe thead th {\n",
       "        text-align: right;\n",
       "    }\n",
       "</style>\n",
       "<table border=\"1\" class=\"dataframe\">\n",
       "  <thead>\n",
       "    <tr style=\"text-align: right;\">\n",
       "      <th></th>\n",
       "      <th>vendor_id</th>\n",
       "      <th>passenger_count</th>\n",
       "      <th>pickup_longitude</th>\n",
       "      <th>pickup_latitude</th>\n",
       "      <th>dropoff_longitude</th>\n",
       "      <th>dropoff_latitude</th>\n",
       "      <th>trip_duration</th>\n",
       "      <th>pickup_month</th>\n",
       "      <th>pickup_day_of_week</th>\n",
       "      <th>pickup_hour_of_day</th>\n",
       "      <th>pickup_day</th>\n",
       "      <th>pickup_min</th>\n",
       "      <th>distance</th>\n",
       "      <th>store_and_fwd_flag_N</th>\n",
       "      <th>store_and_fwd_flag_Y</th>\n",
       "    </tr>\n",
       "  </thead>\n",
       "  <tbody>\n",
       "    <tr>\n",
       "      <th>543871</th>\n",
       "      <td>1</td>\n",
       "      <td>2</td>\n",
       "      <td>-74.006195</td>\n",
       "      <td>40.734596</td>\n",
       "      <td>-73.973900</td>\n",
       "      <td>40.763729</td>\n",
       "      <td>1406</td>\n",
       "      <td>4</td>\n",
       "      <td>5</td>\n",
       "      <td>11</td>\n",
       "      <td>30</td>\n",
       "      <td>19</td>\n",
       "      <td>4.230253</td>\n",
       "      <td>1</td>\n",
       "      <td>0</td>\n",
       "    </tr>\n",
       "    <tr>\n",
       "      <th>503387</th>\n",
       "      <td>2</td>\n",
       "      <td>1</td>\n",
       "      <td>-73.959557</td>\n",
       "      <td>40.769421</td>\n",
       "      <td>-73.951141</td>\n",
       "      <td>40.779301</td>\n",
       "      <td>273</td>\n",
       "      <td>2</td>\n",
       "      <td>0</td>\n",
       "      <td>16</td>\n",
       "      <td>29</td>\n",
       "      <td>49</td>\n",
       "      <td>1.307323</td>\n",
       "      <td>1</td>\n",
       "      <td>0</td>\n",
       "    </tr>\n",
       "    <tr>\n",
       "      <th>187152</th>\n",
       "      <td>1</td>\n",
       "      <td>1</td>\n",
       "      <td>-73.946251</td>\n",
       "      <td>40.695072</td>\n",
       "      <td>-73.907883</td>\n",
       "      <td>40.699188</td>\n",
       "      <td>919</td>\n",
       "      <td>3</td>\n",
       "      <td>0</td>\n",
       "      <td>2</td>\n",
       "      <td>14</td>\n",
       "      <td>58</td>\n",
       "      <td>3.266832</td>\n",
       "      <td>1</td>\n",
       "      <td>0</td>\n",
       "    </tr>\n",
       "    <tr>\n",
       "      <th>339309</th>\n",
       "      <td>1</td>\n",
       "      <td>1</td>\n",
       "      <td>-73.996262</td>\n",
       "      <td>40.754280</td>\n",
       "      <td>-73.990181</td>\n",
       "      <td>40.766556</td>\n",
       "      <td>213</td>\n",
       "      <td>1</td>\n",
       "      <td>2</td>\n",
       "      <td>18</td>\n",
       "      <td>20</td>\n",
       "      <td>3</td>\n",
       "      <td>1.457910</td>\n",
       "      <td>1</td>\n",
       "      <td>0</td>\n",
       "    </tr>\n",
       "    <tr>\n",
       "      <th>628055</th>\n",
       "      <td>1</td>\n",
       "      <td>1</td>\n",
       "      <td>-73.970039</td>\n",
       "      <td>40.759907</td>\n",
       "      <td>-73.981781</td>\n",
       "      <td>40.768353</td>\n",
       "      <td>685</td>\n",
       "      <td>5</td>\n",
       "      <td>0</td>\n",
       "      <td>15</td>\n",
       "      <td>9</td>\n",
       "      <td>44</td>\n",
       "      <td>1.363756</td>\n",
       "      <td>1</td>\n",
       "      <td>0</td>\n",
       "    </tr>\n",
       "  </tbody>\n",
       "</table>\n",
       "</div>"
      ],
      "text/plain": [
       "        vendor_id  passenger_count  pickup_longitude  pickup_latitude  \\\n",
       "543871          1                2        -74.006195        40.734596   \n",
       "503387          2                1        -73.959557        40.769421   \n",
       "187152          1                1        -73.946251        40.695072   \n",
       "339309          1                1        -73.996262        40.754280   \n",
       "628055          1                1        -73.970039        40.759907   \n",
       "\n",
       "        dropoff_longitude  dropoff_latitude  trip_duration  pickup_month  \\\n",
       "543871         -73.973900         40.763729           1406             4   \n",
       "503387         -73.951141         40.779301            273             2   \n",
       "187152         -73.907883         40.699188            919             3   \n",
       "339309         -73.990181         40.766556            213             1   \n",
       "628055         -73.981781         40.768353            685             5   \n",
       "\n",
       "        pickup_day_of_week  pickup_hour_of_day  pickup_day  pickup_min  \\\n",
       "543871                   5                  11          30          19   \n",
       "503387                   0                  16          29          49   \n",
       "187152                   0                   2          14          58   \n",
       "339309                   2                  18          20           3   \n",
       "628055                   0                  15           9          44   \n",
       "\n",
       "        distance  store_and_fwd_flag_N  store_and_fwd_flag_Y  \n",
       "543871  4.230253                     1                     0  \n",
       "503387  1.307323                     1                     0  \n",
       "187152  3.266832                     1                     0  \n",
       "339309  1.457910                     1                     0  \n",
       "628055  1.363756                     1                     0  "
      ]
     },
     "execution_count": 7,
     "metadata": {},
     "output_type": "execute_result"
    }
   ],
   "source": [
    "test.head()"
   ]
  },
  {
   "cell_type": "markdown",
   "id": "6cc512ec",
   "metadata": {},
   "source": [
    "## Benchmark model using simple mean\n",
    "\n",
    "## Evaluation metric used - RMSE\n",
    "\n",
    "* The RMSE is used because it is most commonly used metric. Both MAE and RMSLE are good with outliers but since we did data cleaning and removed extreme outliers, RMSE is better than MAE. \n",
    "* In case of RMSLE, again, if outliers are extreme, it will scale them down and wont penalize them, but outliers have been removed to an extant. \n",
    "* MSE will change units and since we are dealing with trip duration, we need to maintain units (seconds) \n",
    "\n",
    "Hence considering the facts, we can use RMSE"
   ]
  },
  {
   "cell_type": "markdown",
   "id": "48c93851",
   "metadata": {},
   "source": [
    "* #### I have also used r-squared metric to evaluate the score of model which is needed for final task but RMSE is the evaluation metric"
   ]
  },
  {
   "cell_type": "markdown",
   "id": "e97bf61f",
   "metadata": {},
   "source": [
    "### Simple Mean ( mean of trip_duration)"
   ]
  },
  {
   "cell_type": "code",
   "execution_count": 8,
   "id": "5042f158",
   "metadata": {},
   "outputs": [],
   "source": [
    "# Storing in new column the values of mean for both train and test\n",
    "\n",
    "train['simple_mean'] = train['trip_duration'].mean()\n",
    "test['simple_mean'] = train['trip_duration'].mean()"
   ]
  },
  {
   "cell_type": "code",
   "execution_count": 9,
   "id": "4e5ee6e1",
   "metadata": {},
   "outputs": [
    {
     "name": "stdout",
     "output_type": "stream",
     "text": [
      "The RMSE of test set = 659.3505375040452\n"
     ]
    }
   ],
   "source": [
    "#calculating root mean square error\n",
    "from sklearn.metrics import mean_squared_error as MSE\n",
    "\n",
    "simple_mean_error_test = np.sqrt(MSE(test['trip_duration'] , test['simple_mean']))\n",
    "\n",
    "print(\"The RMSE of test set = {}\".format(simple_mean_error_test))"
   ]
  },
  {
   "cell_type": "code",
   "execution_count": 10,
   "id": "42d5399b",
   "metadata": {},
   "outputs": [
    {
     "name": "stdout",
     "output_type": "stream",
     "text": [
      "The r2 score for train set is = 0.0\n",
      "The r2 score for test set is = -8.701520463905155e-05\n"
     ]
    }
   ],
   "source": [
    "# calculating the r2 score \n",
    "\n",
    "from sklearn.metrics import r2_score\n",
    "\n",
    "print(\"The r2 score for train set is = {}\\nThe r2 score for test set is = {}\".format(r2_score(train['trip_duration'],train['simple_mean']),r2_score(test['trip_duration'] , test['simple_mean'])))"
   ]
  },
  {
   "cell_type": "markdown",
   "id": "e186b277",
   "metadata": {},
   "source": [
    "* As we see, the r2 score for train set is 0 since it is the train set of baseline model. "
   ]
  },
  {
   "cell_type": "markdown",
   "id": "9c340ea2",
   "metadata": {},
   "source": [
    "### Plotting the correlation heat map to see which variables to use for benchmark based on high correlation"
   ]
  },
  {
   "cell_type": "code",
   "execution_count": 11,
   "id": "1fed640d",
   "metadata": {},
   "outputs": [
    {
     "data": {
      "text/plain": [
       "Text(0.5, 1.0, 'Correlation Plot')"
      ]
     },
     "execution_count": 11,
     "metadata": {},
     "output_type": "execute_result"
    },
    {
     "data": {
      "image/png": "[encoded data removed]",
      "text/plain": [
       "<Figure size 1440x720 with 2 Axes>"
      ]
     },
     "metadata": {
      "needs_background": "light"
     },
     "output_type": "display_data"
    }
   ],
   "source": [
    "#Plotting Pearson Correlation heatmap\n",
    "\n",
    "plt.figure(figsize=(20,10))\n",
    "sns.heatmap(data.corr()*100, annot=True, cmap='inferno')\n",
    "plt.title('Correlation Plot')"
   ]
  },
  {
   "cell_type": "markdown",
   "id": "35a64a33",
   "metadata": {},
   "source": [
    "* As we see, there is high correlation between distance and trip duration , so we'll use that for our next model."
   ]
  },
  {
   "cell_type": "markdown",
   "id": "c5e9bad5",
   "metadata": {},
   "source": [
    "### Trip_distance with respect to distance"
   ]
  },
  {
   "cell_type": "markdown",
   "id": "6817eed8",
   "metadata": {},
   "source": [
    "* For this we will use linear regression fit"
   ]
  },
  {
   "cell_type": "code",
   "execution_count": 12,
   "id": "437271fc",
   "metadata": {},
   "outputs": [
    {
     "data": {
      "text/plain": [
       "((507612, 1), (217549, 1), (507612,), (217549,))"
      ]
     },
     "execution_count": 12,
     "metadata": {},
     "output_type": "execute_result"
    }
   ],
   "source": [
    "#importing train test split and splitting the data \n",
    "\n",
    "from sklearn.model_selection import train_test_split\n",
    "\n",
    "x = data[['distance']]\n",
    "y = data['trip_duration']\n",
    "\n",
    "X_train, X_test, y_train, y_test = train_test_split(x, y, test_size=0.30, random_state=10)\n",
    "X_train.shape, X_test.shape, y_train.shape, y_test.shape"
   ]
  },
  {
   "cell_type": "code",
   "execution_count": 13,
   "id": "2b4e7e26",
   "metadata": {},
   "outputs": [],
   "source": [
    "# Now to use linear regression and fitting the data\n",
    "\n",
    "from sklearn.linear_model import LinearRegression\n",
    "\n",
    "lr = LinearRegression()\n",
    "lr.fit(X_train, y_train)\n",
    "lr_pred = lr.predict(X_test)"
   ]
  },
  {
   "cell_type": "code",
   "execution_count": 14,
   "id": "11c72e93",
   "metadata": {},
   "outputs": [
    {
     "name": "stdout",
     "output_type": "stream",
     "text": [
      "The RMSE value = 428.1578506333879\n",
      "The training score = 0.5703467799032694\n",
      "The testing score = 0.5754914573972338\n"
     ]
    }
   ],
   "source": [
    "# Printing the scores of training and testing along with RMSE value\n",
    "\n",
    "print('The RMSE value = {}\\nThe training score = {}\\nThe testing score = {}'.format(np.sqrt(MSE(lr_pred, y_test)),lr.score(X_train, y_train),lr.score(X_test, y_test)))"
   ]
  },
  {
   "cell_type": "markdown",
   "id": "f0f21871",
   "metadata": {},
   "source": [
    "* As we see, the RMSE score has reduced owing to the high correlation of distance, adding few more correlated terms will give better RMSE value"
   ]
  },
  {
   "cell_type": "markdown",
   "id": "ff695b6b",
   "metadata": {},
   "source": [
    "### Trip_distance with respect to high correlated variables\n",
    "\n",
    "* We will now consider strong high correlation (>10) as a factor. It might be possible that the variables might not have actual effect on target variable, i.e) correlation-causation, but for benchmark model, we can use it as a baseline"
   ]
  },
  {
   "cell_type": "code",
   "execution_count": 15,
   "id": "409e031e",
   "metadata": {},
   "outputs": [
    {
     "data": {
      "text/plain": [
       "((507612, 5), (217549, 5), (507612,), (217549,))"
      ]
     },
     "execution_count": 15,
     "metadata": {},
     "output_type": "execute_result"
    }
   ],
   "source": [
    "# using variables with strong correlation > 10\n",
    "\n",
    "x2 = data[['distance','passenger_count','pickup_longitude','dropoff_longitude','pickup_day']]\n",
    "y2 = data['trip_duration']\n",
    "\n",
    "X2_train, X2_test, y2_train, y2_test = train_test_split(x2, y2, test_size=0.30, random_state=10)\n",
    "X2_train.shape, X2_test.shape, y2_train.shape, y2_test.shape"
   ]
  },
  {
   "cell_type": "code",
   "execution_count": 16,
   "id": "77be3873",
   "metadata": {},
   "outputs": [],
   "source": [
    "# Now to use linear regression and fitting the data\n",
    "\n",
    "lr2 = LinearRegression()\n",
    "lr2.fit(X2_train, y2_train)\n",
    "lr2_pred = lr2.predict(X2_test)"
   ]
  },
  {
   "cell_type": "code",
   "execution_count": 17,
   "id": "52d979e7",
   "metadata": {},
   "outputs": [
    {
     "name": "stdout",
     "output_type": "stream",
     "text": [
      "The RMSE value = 424.46158351617896\n",
      "The training score = 0.5776630120520072\n",
      "The testing score = 0.5827893452839361\n"
     ]
    }
   ],
   "source": [
    "# Printing the scores of training and testing along with RMSE value\n",
    "\n",
    "print('The RMSE value = {}\\nThe training score = {}\\nThe testing score = {}'.format(np.sqrt(MSE(lr2_pred, y2_test)),lr2.score(X2_train, y2_train),lr2.score(X2_test, y2_test)))"
   ]
  },
  {
   "cell_type": "markdown",
   "id": "7f7851ee",
   "metadata": {},
   "source": [
    "* As we see, the RMSE decreased and the score also improved slightly"
   ]
  },
  {
   "cell_type": "code",
   "execution_count": 20,
   "id": "ec2b30c3",
   "metadata": {},
   "outputs": [],
   "source": [
    "# now to store the score of the 2 benchmark models \n",
    "\n",
    "score_df = pd.DataFrame({'model':['Benchmark_1','Benchmark_2'],'train_score':[0.5703467799032694,0.5776630120520072],'test_score':[0.5754914573972338,0.5827893452839361]})"
   ]
  },
  {
   "cell_type": "code",
   "execution_count": 21,
   "id": "62ba4a7a",
   "metadata": {},
   "outputs": [],
   "source": [
    "# Saving score_df in csv file to update for other models\n",
    "\n",
    "score_df.to_csv('score.csv',index=False)"
   ]
  },
  {
   "cell_type": "code",
   "execution_count": null,
   "id": "8c86bd80",
   "metadata": {},
   "outputs": [],
   "source": []
  }
 ],
 "metadata": {
  "kernelspec": {
   "display_name": "Python 3 (ipykernel)",
   "language": "python",
   "name": "python3"
  },
  "language_info": {
   "codemirror_mode": {
    "name": "ipython",
    "version": 3
   },
   "file_extension": ".py",
   "mimetype": "text/x-python",
   "name": "python",
   "nbconvert_exporter": "python",
   "pygments_lexer": "ipython3",
   "version": "3.7.13"
  }
 },
 "nbformat": 4,
 "nbformat_minor": 5
}
