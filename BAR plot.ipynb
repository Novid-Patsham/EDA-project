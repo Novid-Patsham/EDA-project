{
 "cells": [
  {
   "cell_type": "markdown",
   "id": "56bcc302",
   "metadata": {},
   "source": [
    "## Bar plot file to compare scores of all models"
   ]
  },
  {
   "cell_type": "code",
   "execution_count": 1,
   "id": "fd754529",
   "metadata": {},
   "outputs": [],
   "source": [
    "#importing libraries \n",
    "\n",
    "import pandas as pd \n",
    "import matplotlib.pyplot as plt\n",
    "\n",
    "import warnings\n",
    "warnings.filterwarnings('ignore')"
   ]
  },
  {
   "cell_type": "markdown",
   "id": "01f335f4",
   "metadata": {},
   "source": [
    "#### Reading the dataset of scores"
   ]
  },
  {
   "cell_type": "code",
   "execution_count": 2,
   "id": "3ce00420",
   "metadata": {},
   "outputs": [
    {
     "data": {
      "text/html": [
       "<div>\n",
       "<style scoped>\n",
       "    .dataframe tbody tr th:only-of-type {\n",
       "        vertical-align: middle;\n",
       "    }\n",
       "\n",
       "    .dataframe tbody tr th {\n",
       "        vertical-align: top;\n",
       "    }\n",
       "\n",
       "    .dataframe thead th {\n",
       "        text-align: right;\n",
       "    }\n",
       "</style>\n",
       "<table border=\"1\" class=\"dataframe\">\n",
       "  <thead>\n",
       "    <tr style=\"text-align: right;\">\n",
       "      <th></th>\n",
       "      <th>model</th>\n",
       "      <th>train_score</th>\n",
       "      <th>test_score</th>\n",
       "    </tr>\n",
       "  </thead>\n",
       "  <tbody>\n",
       "    <tr>\n",
       "      <th>0</th>\n",
       "      <td>Benchmark_1</td>\n",
       "      <td>0.570347</td>\n",
       "      <td>0.575491</td>\n",
       "    </tr>\n",
       "    <tr>\n",
       "      <th>1</th>\n",
       "      <td>Benchmark_2</td>\n",
       "      <td>0.577663</td>\n",
       "      <td>0.582789</td>\n",
       "    </tr>\n",
       "    <tr>\n",
       "      <th>2</th>\n",
       "      <td>Ridge_Reg</td>\n",
       "      <td>0.603419</td>\n",
       "      <td>0.610341</td>\n",
       "    </tr>\n",
       "    <tr>\n",
       "      <th>3</th>\n",
       "      <td>Lasso_Rig</td>\n",
       "      <td>0.603419</td>\n",
       "      <td>0.603419</td>\n",
       "    </tr>\n",
       "    <tr>\n",
       "      <th>4</th>\n",
       "      <td>Dec_tree</td>\n",
       "      <td>0.673348</td>\n",
       "      <td>0.665726</td>\n",
       "    </tr>\n",
       "    <tr>\n",
       "      <th>5</th>\n",
       "      <td>KNN</td>\n",
       "      <td>0.643491</td>\n",
       "      <td>0.554706</td>\n",
       "    </tr>\n",
       "  </tbody>\n",
       "</table>\n",
       "</div>"
      ],
      "text/plain": [
       "         model  train_score  test_score\n",
       "0  Benchmark_1     0.570347    0.575491\n",
       "1  Benchmark_2     0.577663    0.582789\n",
       "2    Ridge_Reg     0.603419    0.610341\n",
       "3    Lasso_Rig     0.603419    0.603419\n",
       "4     Dec_tree     0.673348    0.665726\n",
       "5          KNN     0.643491    0.554706"
      ]
     },
     "execution_count": 2,
     "metadata": {},
     "output_type": "execute_result"
    }
   ],
   "source": [
    "score_df = pd.read_csv('score.csv')\n",
    "\n",
    "score_df"
   ]
  },
  {
   "cell_type": "code",
   "execution_count": 7,
   "id": "ce7cf73d",
   "metadata": {},
   "outputs": [
    {
     "data": {
      "text/plain": [
       "<AxesSubplot:xlabel='model'>"
      ]
     },
     "execution_count": 7,
     "metadata": {},
     "output_type": "execute_result"
    },
    {
     "data": {
      "image/png": "[encoded data removed]",
      "text/plain": [
       "<Figure size 864x576 with 1 Axes>"
      ]
     },
     "metadata": {
      "needs_background": "light"
     },
     "output_type": "display_data"
    }
   ],
   "source": [
    "# plotting the bar plots \n",
    "\n",
    "score_df.plot(x = 'model', y = ['train_score','test_score'], kind = 'bar', figsize=(12,8))"
   ]
  },
  {
   "cell_type": "markdown",
   "id": "89748f3a",
   "metadata": {},
   "source": [
    "## Interpretation\n",
    "\n",
    "* As we see, decision tree performed the best in both train and test score since it can deal with data in any organised matter and un preprocessed as well.\n",
    "* Knn performed better on training data and a bit poor on test set owing to the sample size taken and estimations made.\n",
    "* Both the benchmarks and regularization were fit using linear regression and so have performed similar, with ridge regression performing slightly better than others. \n",
    "* Benchmark 2 performed better than 1 since we included several variables that had strong relation with the target variable\n"
   ]
  },
  {
   "cell_type": "code",
   "execution_count": null,
   "id": "1cf1f3e3",
   "metadata": {},
   "outputs": [],
   "source": []
  }
 ],
 "metadata": {
  "kernelspec": {
   "display_name": "Python 3 (ipykernel)",
   "language": "python",
   "name": "python3"
  },
  "language_info": {
   "codemirror_mode": {
    "name": "ipython",
    "version": 3
   },
   "file_extension": ".py",
   "mimetype": "text/x-python",
   "name": "python",
   "nbconvert_exporter": "python",
   "pygments_lexer": "ipython3",
   "version": "3.7.13"
  }
 },
 "nbformat": 4,
 "nbformat_minor": 5
}
